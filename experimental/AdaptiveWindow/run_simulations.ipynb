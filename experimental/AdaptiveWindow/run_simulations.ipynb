{
 "cells": [
  {
   "cell_type": "markdown",
   "id": "73e72c0a",
   "metadata": {},
   "source": [
    "# Run the Bayesian Online Change-Point Detector vs. the Benchmarks"
   ]
  },
  {
   "cell_type": "code",
   "execution_count": 6,
   "id": "3bbf672a",
   "metadata": {},
   "outputs": [],
   "source": [
    "# Load imports\n",
    "import numpy as np \n",
    "import pandas as pd \n",
    "import itertools\n",
    "\n",
    "from dev.Simulator import Simulator\n",
    "from dev.stratagy import *\n",
    "from dev.utils import NumericalTools"
   ]
  },
  {
   "cell_type": "markdown",
   "id": "b13a8f65",
   "metadata": {},
   "source": [
    "**Load Data**"
   ]
  },
  {
   "cell_type": "code",
   "execution_count": 7,
   "id": "2a111ec1",
   "metadata": {},
   "outputs": [
    {
     "data": {
      "application/vnd.microsoft.datawrangler.viewer.v0+json": {
       "columns": [
        {
         "name": "Date",
         "rawType": "object",
         "type": "string"
        },
        {
         "name": "AAPL",
         "rawType": "float64",
         "type": "float"
        },
        {
         "name": "ADBE",
         "rawType": "float64",
         "type": "float"
        },
        {
         "name": "AMZN",
         "rawType": "float64",
         "type": "float"
        },
        {
         "name": "BAC",
         "rawType": "float64",
         "type": "float"
        },
        {
         "name": "CSCO",
         "rawType": "float64",
         "type": "float"
        },
        {
         "name": "CVX",
         "rawType": "float64",
         "type": "float"
        },
        {
         "name": "DIS",
         "rawType": "float64",
         "type": "float"
        },
        {
         "name": "GOOGL",
         "rawType": "float64",
         "type": "float"
        },
        {
         "name": "HD",
         "rawType": "float64",
         "type": "float"
        },
        {
         "name": "INTC",
         "rawType": "float64",
         "type": "float"
        },
        {
         "name": "JNJ",
         "rawType": "float64",
         "type": "float"
        },
        {
         "name": "JPM",
         "rawType": "float64",
         "type": "float"
        },
        {
         "name": "KO",
         "rawType": "float64",
         "type": "float"
        },
        {
         "name": "MRK",
         "rawType": "float64",
         "type": "float"
        },
        {
         "name": "MSFT",
         "rawType": "float64",
         "type": "float"
        },
        {
         "name": "NVDA",
         "rawType": "float64",
         "type": "float"
        },
        {
         "name": "PEP",
         "rawType": "float64",
         "type": "float"
        },
        {
         "name": "PFE",
         "rawType": "float64",
         "type": "float"
        },
        {
         "name": "PG",
         "rawType": "float64",
         "type": "float"
        },
        {
         "name": "T",
         "rawType": "float64",
         "type": "float"
        },
        {
         "name": "VZ",
         "rawType": "float64",
         "type": "float"
        },
        {
         "name": "WMT",
         "rawType": "float64",
         "type": "float"
        },
        {
         "name": "SAP.DE",
         "rawType": "float64",
         "type": "float"
        },
        {
         "name": "BMW.DE",
         "rawType": "float64",
         "type": "float"
        },
        {
         "name": "BAS.DE",
         "rawType": "float64",
         "type": "float"
        },
        {
         "name": "AIR.PA",
         "rawType": "float64",
         "type": "float"
        },
        {
         "name": "SHEL.L",
         "rawType": "float64",
         "type": "float"
        },
        {
         "name": "VOD.L",
         "rawType": "float64",
         "type": "float"
        },
        {
         "name": "HSBA.L",
         "rawType": "float64",
         "type": "float"
        },
        {
         "name": "AZN.L",
         "rawType": "float64",
         "type": "float"
        },
        {
         "name": "BP.L",
         "rawType": "float64",
         "type": "float"
        },
        {
         "name": "7203.T",
         "rawType": "float64",
         "type": "float"
        },
        {
         "name": "6861.T",
         "rawType": "float64",
         "type": "float"
        },
        {
         "name": "9984.T",
         "rawType": "float64",
         "type": "float"
        },
        {
         "name": "6954.T",
         "rawType": "float64",
         "type": "float"
        },
        {
         "name": "8411.T",
         "rawType": "float64",
         "type": "float"
        },
        {
         "name": "CS.PA",
         "rawType": "float64",
         "type": "float"
        },
        {
         "name": "SAN.PA",
         "rawType": "float64",
         "type": "float"
        },
        {
         "name": "BNP.PA",
         "rawType": "float64",
         "type": "float"
        },
        {
         "name": "MC.PA",
         "rawType": "float64",
         "type": "float"
        },
        {
         "name": "OR.PA",
         "rawType": "float64",
         "type": "float"
        },
        {
         "name": "ULVR.L",
         "rawType": "float64",
         "type": "float"
        },
        {
         "name": "BARC.L",
         "rawType": "float64",
         "type": "float"
        },
        {
         "name": "RIO.L",
         "rawType": "float64",
         "type": "float"
        },
        {
         "name": "TLT",
         "rawType": "float64",
         "type": "float"
        },
        {
         "name": "IEF",
         "rawType": "float64",
         "type": "float"
        },
        {
         "name": "SHY",
         "rawType": "float64",
         "type": "float"
        },
        {
         "name": "BWX",
         "rawType": "float64",
         "type": "float"
        },
        {
         "name": "PHAU.L",
         "rawType": "float64",
         "type": "float"
        },
        {
         "name": "GLD",
         "rawType": "float64",
         "type": "float"
        },
        {
         "name": "XLE",
         "rawType": "float64",
         "type": "float"
        },
        {
         "name": "BTC-USD",
         "rawType": "float64",
         "type": "float"
        }
       ],
       "ref": "47b6cc56-0f44-49d6-907e-ae4e090d2dd2",
       "rows": [
        [
         "2025-05-23",
         "-0.0307111157260399",
         "-0.0161556376759513",
         "-0.0104433157299198",
         "-0.0025430740242397",
         "-0.0039535118718624",
         "0.0091969898291805",
         "-0.0127689852874948",
         "-0.0141453052400662",
         "-0.0093848815834503",
         "-0.024631788115501",
         "0.0021600350691835",
         "0.0001533546628089",
         "0.0088167567277607",
         "-0.003345705217153",
         "-0.0103421605758315",
         "-0.0116615631210315",
         "-0.0060124963750656",
         "0.0120794728317318",
         "0.0050167945443574",
         "0.0069533870419251",
         "0.0043955796633345",
         "0.0042648011786381",
         "-0.0231843491012082",
         "-0.0421734839619971",
         "-0.0284617550224011",
         "-0.0292273486511711",
         "-0.008217084997951",
         "-0.0233179830360703",
         "-0.0134771163295182",
         "0.005972105483838",
         "-0.0016695472290363",
         "0.0020512452435655",
         "-0.0004244566432627",
         "0.0009842476180181",
         "0.0009723080347795",
         "0.0074155882309017",
         "-0.0189028674928931",
         "-0.0180535351292688",
         "-0.0260163696232682",
         "-0.0170187133456546",
         "-0.0224329892671226",
         "-0.0036009195504949",
         "-0.0102951814892206",
         "-0.0053420825678605",
         "0.0016571952673571",
         "0.0028835038393667",
         "0.0006062220509355",
         "0.0127166682301039",
         "0.0191808715309614",
         "0.0216697929051216",
         "0.0031760899518235",
         "-0.0400625623389945"
        ],
        [
         "2025-05-27",
         "0.0249836110855662",
         "0.0131826215039426",
         "0.024718089285441",
         "0.0233366901238266",
         "0.0100899387711536",
         "0.009403492172523",
         "0.0237763304731267",
         "0.0259556577444701",
         "0.0209798929483043",
         "0.024631788115501",
         "0.0105612881931905",
         "0.0174149537710719",
         "0.0001393540448013",
         "0.0001288200936739",
         "0.0230778843901737",
         "0.0315630745114268",
         "0.0155731646083904",
         "0.0123590285529701",
         "0.0113902911465035",
         "-0.0010947159253386",
         "0.0041465230065342",
         "0.012789009962614",
         "0.0140679034163929",
         "-0.0033214147495139",
         "0.013344834382401",
         "0.0136593582902525",
         "0.0130590109508686",
         "0.0073427949533469",
         "0.0005554437907235",
         "0.0067570375591005",
         "0.0129185910378651",
         "0.0055471865830163",
         "0.000290138596404",
         "0.0205479747539218",
         "0.0030846381453071",
         "0.0117365945063018",
         "0.0018612692015061",
         "0.0014849012753406",
         "0.0039637286839768",
         "-0.0018341973690118",
         "-0.0003621170922044",
         "0.0055702064301003",
         "0.0169059309682968",
         "-0.0119585916611509",
         "0.0138598066351946",
         "0.0041506085096932",
         "0.0003635940106145",
         "-0.0017444296834573",
         "-0.0186923795813396",
         "-0.0170944333593",
         "0.008622302574782",
         "-0.0040810965752039"
        ],
        [
         "2025-05-28",
         "0.0010483062763625",
         "-0.0021082365148701",
         "-0.0063300743793083",
         "-0.0036248304916732",
         "-0.0064521405190129",
         "-0.0132190898331981",
         "-0.0075040907575651",
         "-0.0031280410996208",
         "-0.0063375245699763",
         "-0.0087976323780423",
         "-0.0053651485922912",
         "-0.0068082199309596",
         "-0.0088155227314826",
         "-0.0184708453620002",
         "-0.0072545759788605",
         "-0.0051052787267618",
         "-0.005342685324779",
         "-0.018380525871738",
         "-0.0023871693259852",
         "0.0040080436812762",
         "-0.0085421026698687",
         "-0.003490445673059",
         "-0.0134079532483017",
         "0.0377428203846236",
         "-0.0127200349227881",
         "-0.0036595875594765",
         "-0.004444945684018",
         "-0.00952526570699",
         "-0.0061400404092457",
         "-0.0132231769028449",
         "-0.0088434469466949",
         "0.0073877071978425",
         "0.0004026403114728",
         "0.0117656317897892",
         "-0.0036733587031058",
         "0.0161541744385573",
         "-0.0105910597956361",
         "-0.0064638854382696",
         "-0.0154314950067843",
         "-0.0008974624396109",
         "-0.0233104385461",
         "-0.0102200742637827",
         "-0.0165608748556728",
         "-0.0144468547051314",
         "-0.0043253253437107",
         "-0.0027651572856037",
         "-0.0007273202699196",
         "-0.0039361913956283",
         "-0.0003419690063915",
         "-0.0022685891736125",
         "-0.0127777270235801",
         "-0.010999457493792"
        ],
        [
         "2025-05-29",
         "-0.0023478354638725",
         "0.0027373758786872",
         "0.0047755840086203",
         "0.0040770226112523",
         "-0.0045889932091406",
         "0.0137993598825616",
         "0.0044734799038307",
         "-0.0029051208522578",
         "0.0006247327817004",
         "-0.005908477885645",
         "0.0075161896008493",
         "0.0033342390879977",
         "0.0047672039154266",
         "0.0030150557990684",
         "0.0028819882745958",
         "0.0319735621864133",
         "0.0095206173830663",
         "0.0115806763499357",
         "0.007144570488537",
         "-0.0043732154635526",
         "0.0046264425854062",
         "-0.0014407678965139",
         "-0.0123970898070914",
         "-0.0250911610084259",
         "-0.0068146665071371",
         "-0.0078094332797923",
         "-0.0075084726227185",
         "-0.0086746686538048",
         "0.0008333314828481",
         "-0.0049212196760643",
         "-0.006774034523042",
         "0.0488820327218796",
         "0.0269660182354326",
         "0.0242211395612302",
         "0.0361071184862116",
         "0.0169972423647132",
         "0.0002874605109519",
         "-0.0162063843961228",
         "-0.005904461124063",
         "-0.0141383102835222",
         "-0.0101192867621942",
         "-0.0067170483714073",
         "0.0003855316068075",
         "-0.0038317881030507",
         "0.0092123703301576",
         "0.0041447927382389",
         "0.0010908748546421",
         "0.0069868868840702",
         "0.0063635270049848",
         "0.005907233361944",
         "0.0074431506670078",
         "-0.0202455280092545"
        ],
        [
         "2025-05-30",
         "0.0044910711634954",
         "0.0041765068243339",
         "-0.0033600501810791",
         "-0.0024895476688152",
         "-0.0001585902377992",
         "-0.008812603635175",
         "0.0090643496610011",
         "-0.0006984582068347",
         "0.0",
         "-0.0351795461462101",
         "0.0105574660948799",
         "-0.0014005154762147",
         "0.0084964732303025",
         "0.0057425740967497",
         "0.0036559770786951",
         "-0.0296026095952274",
         "-0.003569136411526",
         "0.0017042615000031",
         "0.0078594101891622",
         "0.0152232040437528",
         "0.0144348306988717",
         "0.0165462129396155",
         "0.0258577525429171",
         "0.0079442907349115",
         "0.0076229080747756",
         "0.0098410138842405",
         "0.0082857338768302",
         "0.0052745521585994",
         "0.007077913254958",
         "0.0355120919810475",
         "0.0098907756666925",
         "-0.0007140754054545",
         "-0.0403747751179377",
         "-0.0524017065132221",
         "-0.0450569662796252",
         "-0.0145003112820547",
         "0.0140033481625208",
         "-0.036797038411701",
         "0.0168248436139957",
         "0.0065448341766315",
         "0.029860103673591",
         "0.0111945105569335",
         "0.0094517649751505",
         "-0.0082995567419421",
         "0.0015078440309361",
         "0.0029650921470276",
         "0.0012106479547219",
         "-0.0017420671998756",
         "-0.0088745804220031",
         "-0.0065986657130021",
         "-0.008913953069149",
         "-0.0156765748876117"
        ]
       ],
       "shape": {
        "columns": 52,
        "rows": 5
       }
      },
      "text/html": [
       "<div>\n",
       "<style scoped>\n",
       "    .dataframe tbody tr th:only-of-type {\n",
       "        vertical-align: middle;\n",
       "    }\n",
       "\n",
       "    .dataframe tbody tr th {\n",
       "        vertical-align: top;\n",
       "    }\n",
       "\n",
       "    .dataframe thead th {\n",
       "        text-align: right;\n",
       "    }\n",
       "</style>\n",
       "<table border=\"1\" class=\"dataframe\">\n",
       "  <thead>\n",
       "    <tr style=\"text-align: right;\">\n",
       "      <th></th>\n",
       "      <th>AAPL</th>\n",
       "      <th>ADBE</th>\n",
       "      <th>AMZN</th>\n",
       "      <th>BAC</th>\n",
       "      <th>CSCO</th>\n",
       "      <th>CVX</th>\n",
       "      <th>DIS</th>\n",
       "      <th>GOOGL</th>\n",
       "      <th>HD</th>\n",
       "      <th>INTC</th>\n",
       "      <th>...</th>\n",
       "      <th>BARC.L</th>\n",
       "      <th>RIO.L</th>\n",
       "      <th>TLT</th>\n",
       "      <th>IEF</th>\n",
       "      <th>SHY</th>\n",
       "      <th>BWX</th>\n",
       "      <th>PHAU.L</th>\n",
       "      <th>GLD</th>\n",
       "      <th>XLE</th>\n",
       "      <th>BTC-USD</th>\n",
       "    </tr>\n",
       "    <tr>\n",
       "      <th>Date</th>\n",
       "      <th></th>\n",
       "      <th></th>\n",
       "      <th></th>\n",
       "      <th></th>\n",
       "      <th></th>\n",
       "      <th></th>\n",
       "      <th></th>\n",
       "      <th></th>\n",
       "      <th></th>\n",
       "      <th></th>\n",
       "      <th></th>\n",
       "      <th></th>\n",
       "      <th></th>\n",
       "      <th></th>\n",
       "      <th></th>\n",
       "      <th></th>\n",
       "      <th></th>\n",
       "      <th></th>\n",
       "      <th></th>\n",
       "      <th></th>\n",
       "      <th></th>\n",
       "    </tr>\n",
       "  </thead>\n",
       "  <tbody>\n",
       "    <tr>\n",
       "      <th>2025-05-23</th>\n",
       "      <td>-0.030711</td>\n",
       "      <td>-0.016156</td>\n",
       "      <td>-0.010443</td>\n",
       "      <td>-0.002543</td>\n",
       "      <td>-0.003954</td>\n",
       "      <td>0.009197</td>\n",
       "      <td>-0.012769</td>\n",
       "      <td>-0.014145</td>\n",
       "      <td>-0.009385</td>\n",
       "      <td>-0.024632</td>\n",
       "      <td>...</td>\n",
       "      <td>-0.010295</td>\n",
       "      <td>-0.005342</td>\n",
       "      <td>0.001657</td>\n",
       "      <td>0.002884</td>\n",
       "      <td>0.000606</td>\n",
       "      <td>0.012717</td>\n",
       "      <td>0.019181</td>\n",
       "      <td>0.021670</td>\n",
       "      <td>0.003176</td>\n",
       "      <td>-0.040063</td>\n",
       "    </tr>\n",
       "    <tr>\n",
       "      <th>2025-05-27</th>\n",
       "      <td>0.024984</td>\n",
       "      <td>0.013183</td>\n",
       "      <td>0.024718</td>\n",
       "      <td>0.023337</td>\n",
       "      <td>0.010090</td>\n",
       "      <td>0.009403</td>\n",
       "      <td>0.023776</td>\n",
       "      <td>0.025956</td>\n",
       "      <td>0.020980</td>\n",
       "      <td>0.024632</td>\n",
       "      <td>...</td>\n",
       "      <td>0.016906</td>\n",
       "      <td>-0.011959</td>\n",
       "      <td>0.013860</td>\n",
       "      <td>0.004151</td>\n",
       "      <td>0.000364</td>\n",
       "      <td>-0.001744</td>\n",
       "      <td>-0.018692</td>\n",
       "      <td>-0.017094</td>\n",
       "      <td>0.008622</td>\n",
       "      <td>-0.004081</td>\n",
       "    </tr>\n",
       "    <tr>\n",
       "      <th>2025-05-28</th>\n",
       "      <td>0.001048</td>\n",
       "      <td>-0.002108</td>\n",
       "      <td>-0.006330</td>\n",
       "      <td>-0.003625</td>\n",
       "      <td>-0.006452</td>\n",
       "      <td>-0.013219</td>\n",
       "      <td>-0.007504</td>\n",
       "      <td>-0.003128</td>\n",
       "      <td>-0.006338</td>\n",
       "      <td>-0.008798</td>\n",
       "      <td>...</td>\n",
       "      <td>-0.016561</td>\n",
       "      <td>-0.014447</td>\n",
       "      <td>-0.004325</td>\n",
       "      <td>-0.002765</td>\n",
       "      <td>-0.000727</td>\n",
       "      <td>-0.003936</td>\n",
       "      <td>-0.000342</td>\n",
       "      <td>-0.002269</td>\n",
       "      <td>-0.012778</td>\n",
       "      <td>-0.010999</td>\n",
       "    </tr>\n",
       "    <tr>\n",
       "      <th>2025-05-29</th>\n",
       "      <td>-0.002348</td>\n",
       "      <td>0.002737</td>\n",
       "      <td>0.004776</td>\n",
       "      <td>0.004077</td>\n",
       "      <td>-0.004589</td>\n",
       "      <td>0.013799</td>\n",
       "      <td>0.004473</td>\n",
       "      <td>-0.002905</td>\n",
       "      <td>0.000625</td>\n",
       "      <td>-0.005908</td>\n",
       "      <td>...</td>\n",
       "      <td>0.000386</td>\n",
       "      <td>-0.003832</td>\n",
       "      <td>0.009212</td>\n",
       "      <td>0.004145</td>\n",
       "      <td>0.001091</td>\n",
       "      <td>0.006987</td>\n",
       "      <td>0.006364</td>\n",
       "      <td>0.005907</td>\n",
       "      <td>0.007443</td>\n",
       "      <td>-0.020246</td>\n",
       "    </tr>\n",
       "    <tr>\n",
       "      <th>2025-05-30</th>\n",
       "      <td>0.004491</td>\n",
       "      <td>0.004177</td>\n",
       "      <td>-0.003360</td>\n",
       "      <td>-0.002490</td>\n",
       "      <td>-0.000159</td>\n",
       "      <td>-0.008813</td>\n",
       "      <td>0.009064</td>\n",
       "      <td>-0.000698</td>\n",
       "      <td>0.000000</td>\n",
       "      <td>-0.035180</td>\n",
       "      <td>...</td>\n",
       "      <td>0.009452</td>\n",
       "      <td>-0.008300</td>\n",
       "      <td>0.001508</td>\n",
       "      <td>0.002965</td>\n",
       "      <td>0.001211</td>\n",
       "      <td>-0.001742</td>\n",
       "      <td>-0.008875</td>\n",
       "      <td>-0.006599</td>\n",
       "      <td>-0.008914</td>\n",
       "      <td>-0.015677</td>\n",
       "    </tr>\n",
       "  </tbody>\n",
       "</table>\n",
       "<p>5 rows × 52 columns</p>\n",
       "</div>"
      ],
      "text/plain": [
       "                AAPL      ADBE      AMZN       BAC      CSCO       CVX  \\\n",
       "Date                                                                     \n",
       "2025-05-23 -0.030711 -0.016156 -0.010443 -0.002543 -0.003954  0.009197   \n",
       "2025-05-27  0.024984  0.013183  0.024718  0.023337  0.010090  0.009403   \n",
       "2025-05-28  0.001048 -0.002108 -0.006330 -0.003625 -0.006452 -0.013219   \n",
       "2025-05-29 -0.002348  0.002737  0.004776  0.004077 -0.004589  0.013799   \n",
       "2025-05-30  0.004491  0.004177 -0.003360 -0.002490 -0.000159 -0.008813   \n",
       "\n",
       "                 DIS     GOOGL        HD      INTC  ...    BARC.L     RIO.L  \\\n",
       "Date                                                ...                       \n",
       "2025-05-23 -0.012769 -0.014145 -0.009385 -0.024632  ... -0.010295 -0.005342   \n",
       "2025-05-27  0.023776  0.025956  0.020980  0.024632  ...  0.016906 -0.011959   \n",
       "2025-05-28 -0.007504 -0.003128 -0.006338 -0.008798  ... -0.016561 -0.014447   \n",
       "2025-05-29  0.004473 -0.002905  0.000625 -0.005908  ...  0.000386 -0.003832   \n",
       "2025-05-30  0.009064 -0.000698  0.000000 -0.035180  ...  0.009452 -0.008300   \n",
       "\n",
       "                 TLT       IEF       SHY       BWX    PHAU.L       GLD  \\\n",
       "Date                                                                     \n",
       "2025-05-23  0.001657  0.002884  0.000606  0.012717  0.019181  0.021670   \n",
       "2025-05-27  0.013860  0.004151  0.000364 -0.001744 -0.018692 -0.017094   \n",
       "2025-05-28 -0.004325 -0.002765 -0.000727 -0.003936 -0.000342 -0.002269   \n",
       "2025-05-29  0.009212  0.004145  0.001091  0.006987  0.006364  0.005907   \n",
       "2025-05-30  0.001508  0.002965  0.001211 -0.001742 -0.008875 -0.006599   \n",
       "\n",
       "                 XLE   BTC-USD  \n",
       "Date                            \n",
       "2025-05-23  0.003176 -0.040063  \n",
       "2025-05-27  0.008622 -0.004081  \n",
       "2025-05-28 -0.012778 -0.010999  \n",
       "2025-05-29  0.007443 -0.020246  \n",
       "2025-05-30 -0.008914 -0.015677  \n",
       "\n",
       "[5 rows x 52 columns]"
      ]
     },
     "execution_count": 7,
     "metadata": {},
     "output_type": "execute_result"
    }
   ],
   "source": [
    "returns = pd.read_csv(\"returns\", sep=\",\", index_col=\"Date\")\n",
    "returns.tail()"
   ]
  },
  {
   "cell_type": "markdown",
   "id": "97efe72c",
   "metadata": {},
   "source": [
    "### Start with running all the stratagies"
   ]
  },
  {
   "cell_type": "code",
   "execution_count": 8,
   "id": "93e087c9",
   "metadata": {},
   "outputs": [
    {
     "data": {
      "application/vnd.microsoft.datawrangler.viewer.v0+json": {
       "columns": [
        {
         "name": "Date",
         "rawType": "object",
         "type": "string"
        },
        {
         "name": "AAPL",
         "rawType": "float64",
         "type": "float"
        },
        {
         "name": "ADBE",
         "rawType": "float64",
         "type": "float"
        },
        {
         "name": "AMZN",
         "rawType": "float64",
         "type": "float"
        },
        {
         "name": "BAC",
         "rawType": "float64",
         "type": "float"
        },
        {
         "name": "CSCO",
         "rawType": "float64",
         "type": "float"
        },
        {
         "name": "CVX",
         "rawType": "float64",
         "type": "float"
        },
        {
         "name": "DIS",
         "rawType": "float64",
         "type": "float"
        },
        {
         "name": "GOOGL",
         "rawType": "float64",
         "type": "float"
        },
        {
         "name": "HD",
         "rawType": "float64",
         "type": "float"
        },
        {
         "name": "INTC",
         "rawType": "float64",
         "type": "float"
        },
        {
         "name": "JNJ",
         "rawType": "float64",
         "type": "float"
        },
        {
         "name": "JPM",
         "rawType": "float64",
         "type": "float"
        },
        {
         "name": "KO",
         "rawType": "float64",
         "type": "float"
        },
        {
         "name": "MRK",
         "rawType": "float64",
         "type": "float"
        },
        {
         "name": "MSFT",
         "rawType": "float64",
         "type": "float"
        },
        {
         "name": "NVDA",
         "rawType": "float64",
         "type": "float"
        },
        {
         "name": "PEP",
         "rawType": "float64",
         "type": "float"
        },
        {
         "name": "PFE",
         "rawType": "float64",
         "type": "float"
        },
        {
         "name": "PG",
         "rawType": "float64",
         "type": "float"
        },
        {
         "name": "T",
         "rawType": "float64",
         "type": "float"
        },
        {
         "name": "VZ",
         "rawType": "float64",
         "type": "float"
        },
        {
         "name": "WMT",
         "rawType": "float64",
         "type": "float"
        },
        {
         "name": "SAP.DE",
         "rawType": "float64",
         "type": "float"
        },
        {
         "name": "BMW.DE",
         "rawType": "float64",
         "type": "float"
        },
        {
         "name": "BAS.DE",
         "rawType": "float64",
         "type": "float"
        },
        {
         "name": "AIR.PA",
         "rawType": "float64",
         "type": "float"
        },
        {
         "name": "SHEL.L",
         "rawType": "float64",
         "type": "float"
        },
        {
         "name": "VOD.L",
         "rawType": "float64",
         "type": "float"
        },
        {
         "name": "HSBA.L",
         "rawType": "float64",
         "type": "float"
        },
        {
         "name": "AZN.L",
         "rawType": "float64",
         "type": "float"
        },
        {
         "name": "BP.L",
         "rawType": "float64",
         "type": "float"
        },
        {
         "name": "7203.T",
         "rawType": "float64",
         "type": "float"
        },
        {
         "name": "6861.T",
         "rawType": "float64",
         "type": "float"
        },
        {
         "name": "9984.T",
         "rawType": "float64",
         "type": "float"
        },
        {
         "name": "6954.T",
         "rawType": "float64",
         "type": "float"
        },
        {
         "name": "8411.T",
         "rawType": "float64",
         "type": "float"
        },
        {
         "name": "CS.PA",
         "rawType": "float64",
         "type": "float"
        },
        {
         "name": "SAN.PA",
         "rawType": "float64",
         "type": "float"
        },
        {
         "name": "BNP.PA",
         "rawType": "float64",
         "type": "float"
        },
        {
         "name": "MC.PA",
         "rawType": "float64",
         "type": "float"
        },
        {
         "name": "OR.PA",
         "rawType": "float64",
         "type": "float"
        },
        {
         "name": "ULVR.L",
         "rawType": "float64",
         "type": "float"
        },
        {
         "name": "BARC.L",
         "rawType": "float64",
         "type": "float"
        },
        {
         "name": "RIO.L",
         "rawType": "float64",
         "type": "float"
        },
        {
         "name": "TLT",
         "rawType": "float64",
         "type": "float"
        },
        {
         "name": "IEF",
         "rawType": "float64",
         "type": "float"
        },
        {
         "name": "SHY",
         "rawType": "float64",
         "type": "float"
        },
        {
         "name": "BWX",
         "rawType": "float64",
         "type": "float"
        },
        {
         "name": "PHAU.L",
         "rawType": "float64",
         "type": "float"
        },
        {
         "name": "GLD",
         "rawType": "float64",
         "type": "float"
        },
        {
         "name": "XLE",
         "rawType": "float64",
         "type": "float"
        },
        {
         "name": "BTC-USD",
         "rawType": "float64",
         "type": "float"
        }
       ],
       "ref": "07b7bff9-c19c-4dad-aa6f-63ba4364399a",
       "rows": [],
       "shape": {
        "columns": 52,
        "rows": 0
       }
      },
      "text/html": [
       "<div>\n",
       "<style scoped>\n",
       "    .dataframe tbody tr th:only-of-type {\n",
       "        vertical-align: middle;\n",
       "    }\n",
       "\n",
       "    .dataframe tbody tr th {\n",
       "        vertical-align: top;\n",
       "    }\n",
       "\n",
       "    .dataframe thead th {\n",
       "        text-align: right;\n",
       "    }\n",
       "</style>\n",
       "<table border=\"1\" class=\"dataframe\">\n",
       "  <thead>\n",
       "    <tr style=\"text-align: right;\">\n",
       "      <th></th>\n",
       "      <th>AAPL</th>\n",
       "      <th>ADBE</th>\n",
       "      <th>AMZN</th>\n",
       "      <th>BAC</th>\n",
       "      <th>CSCO</th>\n",
       "      <th>CVX</th>\n",
       "      <th>DIS</th>\n",
       "      <th>GOOGL</th>\n",
       "      <th>HD</th>\n",
       "      <th>INTC</th>\n",
       "      <th>...</th>\n",
       "      <th>BARC.L</th>\n",
       "      <th>RIO.L</th>\n",
       "      <th>TLT</th>\n",
       "      <th>IEF</th>\n",
       "      <th>SHY</th>\n",
       "      <th>BWX</th>\n",
       "      <th>PHAU.L</th>\n",
       "      <th>GLD</th>\n",
       "      <th>XLE</th>\n",
       "      <th>BTC-USD</th>\n",
       "    </tr>\n",
       "    <tr>\n",
       "      <th>Date</th>\n",
       "      <th></th>\n",
       "      <th></th>\n",
       "      <th></th>\n",
       "      <th></th>\n",
       "      <th></th>\n",
       "      <th></th>\n",
       "      <th></th>\n",
       "      <th></th>\n",
       "      <th></th>\n",
       "      <th></th>\n",
       "      <th></th>\n",
       "      <th></th>\n",
       "      <th></th>\n",
       "      <th></th>\n",
       "      <th></th>\n",
       "      <th></th>\n",
       "      <th></th>\n",
       "      <th></th>\n",
       "      <th></th>\n",
       "      <th></th>\n",
       "      <th></th>\n",
       "    </tr>\n",
       "  </thead>\n",
       "  <tbody>\n",
       "  </tbody>\n",
       "</table>\n",
       "<p>0 rows × 52 columns</p>\n",
       "</div>"
      ],
      "text/plain": [
       "Empty DataFrame\n",
       "Columns: [AAPL, ADBE, AMZN, BAC, CSCO, CVX, DIS, GOOGL, HD, INTC, JNJ, JPM, KO, MRK, MSFT, NVDA, PEP, PFE, PG, T, VZ, WMT, SAP.DE, BMW.DE, BAS.DE, AIR.PA, SHEL.L, VOD.L, HSBA.L, AZN.L, BP.L, 7203.T, 6861.T, 9984.T, 6954.T, 8411.T, CS.PA, SAN.PA, BNP.PA, MC.PA, OR.PA, ULVR.L, BARC.L, RIO.L, TLT, IEF, SHY, BWX, PHAU.L, GLD, XLE, BTC-USD]\n",
       "Index: []\n",
       "\n",
       "[0 rows x 52 columns]"
      ]
     },
     "execution_count": 8,
     "metadata": {},
     "output_type": "execute_result"
    }
   ],
   "source": [
    "# Split the dataframe into train / validation split\n",
    "df_fit = returns.loc[returns.index < '2008-01-01']\n",
    "df_val = returns.loc[returns.index >= '2008-01-01']\n",
    "\n",
    "df_fit.head()"
   ]
  },
  {
   "cell_type": "markdown",
   "id": "420f99fb",
   "metadata": {},
   "source": [
    "**Run Grid Search to find the best set of hyperparameters**"
   ]
  },
  {
   "cell_type": "code",
   "execution_count": null,
   "id": "ef5dc56f",
   "metadata": {},
   "outputs": [
    {
     "ename": "KeyError",
     "evalue": "'lam'",
     "output_type": "error",
     "traceback": [
      "\u001b[1;31m---------------------------------------------------------------------------\u001b[0m",
      "\u001b[1;31mKeyError\u001b[0m                                  Traceback (most recent call last)",
      "Cell \u001b[1;32mIn[15], line 82\u001b[0m\n\u001b[0;32m     79\u001b[0m \u001b[38;5;28;01mif\u001b[39;00m \u001b[38;5;124m\"\u001b[39m\u001b[38;5;124mdummy\u001b[39m\u001b[38;5;124m\"\u001b[39m \u001b[38;5;129;01min\u001b[39;00m params:\n\u001b[0;32m     80\u001b[0m     params\u001b[38;5;241m.\u001b[39mpop(\u001b[38;5;124m\"\u001b[39m\u001b[38;5;124mdummy\u001b[39m\u001b[38;5;124m\"\u001b[39m)\n\u001b[1;32m---> 82\u001b[0m strat_obj \u001b[38;5;241m=\u001b[39m \u001b[43mStratClass\u001b[49m\u001b[43m(\u001b[49m\u001b[38;5;241;43m*\u001b[39;49m\u001b[38;5;241;43m*\u001b[39;49m\u001b[43mparams\u001b[49m\u001b[43m)\u001b[49m \u001b[38;5;28;01mif\u001b[39;00m params \u001b[38;5;28;01melse\u001b[39;00m StratClass()\n\u001b[0;32m     83\u001b[0m sim \u001b[38;5;241m=\u001b[39m Simulator(df_fit, strategy\u001b[38;5;241m=\u001b[39mstrat_obj)\n\u001b[0;32m     84\u001b[0m sim\u001b[38;5;241m.\u001b[39mrun()\n",
      "File \u001b[1;32mc:\\Users\\shockers\\Desktop\\repos\\PortfolioOptimalisation\\experimental\\AdaptiveWindow\\dev\\stratagy\\BOCPD.py:138\u001b[0m, in \u001b[0;36mBOCPD.__init__\u001b[1;34m(self, dim, bocpd_params, opt_params, mu0, Sigma0)\u001b[0m\n\u001b[0;32m    125\u001b[0m \u001b[38;5;28;01mdef\u001b[39;00m \u001b[38;5;21m__init__\u001b[39m(\u001b[38;5;28mself\u001b[39m, dim, bocpd_params, opt_params, mu0\u001b[38;5;241m=\u001b[39m\u001b[38;5;28;01mNone\u001b[39;00m, Sigma0\u001b[38;5;241m=\u001b[39m\u001b[38;5;28;01mNone\u001b[39;00m):\n\u001b[0;32m    126\u001b[0m     \u001b[38;5;28mself\u001b[39m\u001b[38;5;241m.\u001b[39mbocpd \u001b[38;5;241m=\u001b[39m BOCPDDetector(\n\u001b[0;32m    127\u001b[0m         dim\u001b[38;5;241m=\u001b[39mdim,\n\u001b[0;32m    128\u001b[0m         p_c\u001b[38;5;241m=\u001b[39mbocpd_params[\u001b[38;5;124m'\u001b[39m\u001b[38;5;124mp_c\u001b[39m\u001b[38;5;124m'\u001b[39m],\n\u001b[1;32m   (...)\u001b[0m\n\u001b[0;32m    134\u001b[0m         nu0\u001b[38;5;241m=\u001b[39mbocpd_params\u001b[38;5;241m.\u001b[39mget(\u001b[38;5;124m'\u001b[39m\u001b[38;5;124mnu0\u001b[39m\u001b[38;5;124m'\u001b[39m)\n\u001b[0;32m    135\u001b[0m     )\n\u001b[0;32m    136\u001b[0m     \u001b[38;5;28mself\u001b[39m\u001b[38;5;241m.\u001b[39moptimizer \u001b[38;5;241m=\u001b[39m PortfolioOptimizer(\n\u001b[0;32m    137\u001b[0m         dim\u001b[38;5;241m=\u001b[39mdim,\n\u001b[1;32m--> 138\u001b[0m         lam\u001b[38;5;241m=\u001b[39m\u001b[43mopt_params\u001b[49m\u001b[43m[\u001b[49m\u001b[38;5;124;43m'\u001b[39;49m\u001b[38;5;124;43mlam\u001b[39;49m\u001b[38;5;124;43m'\u001b[39;49m\u001b[43m]\u001b[49m,\n\u001b[0;32m    139\u001b[0m         kappa\u001b[38;5;241m=\u001b[39mopt_params[\u001b[38;5;124m'\u001b[39m\u001b[38;5;124mkappa\u001b[39m\u001b[38;5;124m'\u001b[39m],\n\u001b[0;32m    140\u001b[0m         w_min\u001b[38;5;241m=\u001b[39mopt_params\u001b[38;5;241m.\u001b[39mget(\u001b[38;5;124m'\u001b[39m\u001b[38;5;124mw_min\u001b[39m\u001b[38;5;124m'\u001b[39m, \u001b[38;5;241m0.0\u001b[39m),\n\u001b[0;32m    141\u001b[0m         w_max\u001b[38;5;241m=\u001b[39mopt_params\u001b[38;5;241m.\u001b[39mget(\u001b[38;5;124m'\u001b[39m\u001b[38;5;124mw_max\u001b[39m\u001b[38;5;124m'\u001b[39m, \u001b[38;5;241m1.0\u001b[39m)\n\u001b[0;32m    142\u001b[0m     )\n\u001b[0;32m    143\u001b[0m     \u001b[38;5;28mself\u001b[39m\u001b[38;5;241m.\u001b[39mmu0 \u001b[38;5;241m=\u001b[39m np\u001b[38;5;241m.\u001b[39mzeros(dim) \u001b[38;5;28;01mif\u001b[39;00m mu0 \u001b[38;5;129;01mis\u001b[39;00m \u001b[38;5;28;01mNone\u001b[39;00m \u001b[38;5;28;01melse\u001b[39;00m mu0\u001b[38;5;241m.\u001b[39mcopy()\n\u001b[0;32m    144\u001b[0m     \u001b[38;5;28mself\u001b[39m\u001b[38;5;241m.\u001b[39mSigma0 \u001b[38;5;241m=\u001b[39m np\u001b[38;5;241m.\u001b[39meye(dim) \u001b[38;5;28;01mif\u001b[39;00m Sigma0 \u001b[38;5;129;01mis\u001b[39;00m \u001b[38;5;28;01mNone\u001b[39;00m \u001b[38;5;28;01melse\u001b[39;00m Sigma0\u001b[38;5;241m.\u001b[39mcopy()\n",
      "\u001b[1;31mKeyError\u001b[0m: 'lam'"
     ]
    }
   ],
   "source": [
    "# Setup for grid search\n",
    "strategy_grids = {\n",
    "    \"variable_window_with_variable_learning\": (\n",
    "        BOCPD.BOCPD,\n",
    "        {\n",
    "            \"dim\": [len(df_fit.columns)],\n",
    "            \"bocpd_params\": [\n",
    "                {\n",
    "                    'p_c': p_c,\n",
    "                    'theta_cp': theta_cp,\n",
    "                    'max_run_length': max_run_length,\n",
    "                    'mu0': mu0,\n",
    "                    'kappa0': kappa0,\n",
    "                    'psi0': psi0,\n",
    "                    'nu0': nu0\n",
    "                }\n",
    "                for p_c in [0.0005, 0.001, 0.005, 0.01, 0.02]\n",
    "                for theta_cp in [0.7, 0.8, 0.9, 0.95]\n",
    "                for max_run_length in [200]\n",
    "                for mu0 in [None]\n",
    "                for kappa0 in [None]\n",
    "                for psi0 in [None]\n",
    "                for nu0 in [None]\n",
    "            ],\n",
    "            \"opt_params\": [\n",
    "                {\n",
    "                    'lam': lam,\n",
    "                    'kappa': kappa,\n",
    "                    'w_min': w_min,\n",
    "                    'w_max': w_max\n",
    "                }\n",
    "                for lam in [0.1, 1, 5, 10, 20]\n",
    "                for kappa in [0.1, 0.5, 0.8, 1, 1.5, 2, 5, 10]\n",
    "                for w_min in [0.05, 0.1, 0.14]\n",
    "                for w_max in [0.15, 0.2, 0.25, 0.3, 0.35, 0.4, 0.45]\n",
    "            ],\n",
    "            \"mu0\": [None],\n",
    "            \"Sigma0\": [None]\n",
    "        }\n",
    "    ),\n",
    "    \"recursive_EWMA\": (\n",
    "        BFS.BFSOnlyStrategy,\n",
    "        {\n",
    "            \"span\":        [10, 20, 50],\n",
    "            \"min_periods\": [1, 5, 10],\n",
    "        }\n",
    "    ),\n",
    "    \"volatility_window\": (\n",
    "        VAW.VolatilityAdaptiveWindowStrategy,\n",
    "        {\n",
    "            \"initial_window\": [30, 60, 90],\n",
    "            \"kappa\":          [1.0, 1.5, 2.0],\n",
    "        }\n",
    "    ),\n",
    "    \"fixed_sliding_window\": (\n",
    "        FSW.FixedSlidingWindowStrategy,\n",
    "        {\n",
    "            \"window_size\": [50, 100, 200],\n",
    "        }\n",
    "    ),\n",
    "    \"oracle_regime_model\": (\n",
    "        ORACLE.OracleRegimeStrategy,\n",
    "        {\n",
    "            \"lookahead\": [1, 2, 5],\n",
    "        }\n",
    "    ),\n",
    "    \"equal_weight_portfolio\": (\n",
    "        EqualWeight.EqualWeightStrategy,\n",
    "        {\n",
    "            # No hyperparameters for equal-weight; include dummy key\n",
    "            \"dummy\": [None],\n",
    "        }\n",
    "    ),\n",
    "}\n",
    "\n",
    "\"\"\"\n",
    "Start & Execute Grid-Search\n",
    "\"\"\"\n",
    "best_overall = {}\n",
    "\n",
    "for name, (StratClass, param_grid) in strategy_grids.items():\n",
    "    keys = list(param_grid.keys())\n",
    "    value_lists = [param_grid[k] for k in keys]\n",
    "    \n",
    "    best_sharpe = -np.inf\n",
    "    best_combo = None\n",
    "\n",
    "    for combo in itertools.product(*value_lists):\n",
    "        params = dict(zip(keys, combo))\n",
    "        if \"dummy\" in params:\n",
    "            params.pop(\"dummy\")\n",
    "        \n",
    "        strat_obj = StratClass(**params) if params else StratClass()\n",
    "        sim = Simulator(df_fit, strategy=strat_obj)\n",
    "        sim.run()\n",
    "\n",
    "        sharpe = NumericalTools.compute_sharpe(sim.returns_df)\n",
    "        if sharpe > best_sharpe:\n",
    "            best_sharpe = sharpe\n",
    "            best_combo = params.copy()\n",
    "\n",
    "    best_overall[name] = {\n",
    "        \"best_params\": best_combo or {},\n",
    "        \"best_sharpe\": best_sharpe\n",
    "    }\n",
    "\n",
    "# Select the \"Best\" hyperparams (those that maximised the annualised sharpe)\n",
    "strategies = {}\n",
    "for name, (StratClass, _) in strategy_grids.items():\n",
    "    bp = best_overall[name][\"best_params\"]\n",
    "    strategies[name] = (StratClass, bp)"
   ]
  },
  {
   "cell_type": "code",
   "execution_count": null,
   "id": "57612541",
   "metadata": {},
   "outputs": [],
   "source": [
    "simulators = {\n",
    "    name: Simulator(df_val, strategy=cls(**params))\n",
    "    for name, (cls, params) in strategies.items()\n",
    "}\n",
    "\n",
    "for sim in simulators.values():\n",
    "    sim.run()"
   ]
  },
  {
   "cell_type": "code",
   "execution_count": null,
   "id": "b23f0577",
   "metadata": {},
   "outputs": [],
   "source": [
    "best_table = pd.DataFrame.from_dict(\n",
    "    {\n",
    "        name: {**info[\"best_params\"], \"Sharpe(2005-2007)\": info[\"best_sharpe\"]}\n",
    "        for name, info in best_overall.items()\n",
    "    },\n",
    "    orient=\"index\"\n",
    ")"
   ]
  }
 ],
 "metadata": {
  "kernelspec": {
   "display_name": "Python 3",
   "language": "python",
   "name": "python3"
  },
  "language_info": {
   "codemirror_mode": {
    "name": "ipython",
    "version": 3
   },
   "file_extension": ".py",
   "mimetype": "text/x-python",
   "name": "python",
   "nbconvert_exporter": "python",
   "pygments_lexer": "ipython3",
   "version": "3.11.9"
  }
 },
 "nbformat": 4,
 "nbformat_minor": 5
}
